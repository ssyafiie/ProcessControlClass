{
  "cells": [
    {
      "cell_type": "markdown",
      "metadata": {
        "id": "view-in-github",
        "colab_type": "text"
      },
      "source": [
        "<a href=\"https://colab.research.google.com/github/ssyafiie/ProcessControlClass/blob/main/02DynamicModeling0.ipynb\" target=\"_parent\"><img src=\"https://colab.research.google.com/assets/colab-badge.svg\" alt=\"Open In Colab\"/></a>"
      ]
    },
    {
      "cell_type": "markdown",
      "metadata": {
        "id": "VjtiWpL6RJsS",
        "tags": []
      },
      "source": [
        "<h1><center> Mathematical Modeling of Process Dynamics</center></h1>\n",
        "\n",
        "In this section we develop mathematical modeling by first principle by applying material and energy balance and other relantionship"
      ]
    },
    {
      "cell_type": "markdown",
      "metadata": {
        "id": "xBcnAaRpRtUK"
      },
      "source": [
        "![image.png](attachment:image.png)"
      ]
    },
    {
      "cell_type": "markdown",
      "metadata": {
        "id": "zDAtp93UM_I0"
      },
      "source": [
        "Let volume of liquid, $V_T$ inside the tank be\n",
        "\\begin{equation}\n",
        "    V_T=Ah=\\frac{\\pi}{4}D^2h\n",
        "\\end{equation}\n",
        "where $A$ is crossection area of the tank (m^2), $h$ liquid level inside the tank (m), and $D$ is diameter of tank (m).\n",
        "Let the output hydro-static flowrate to be\n",
        "\\begin{equation}\n",
        "    Q_{out}=A_oC_d\\sqrt{\\rho_Tgh}\n",
        "\\end{equation}\n",
        "where $A_o$ is output pipe cross-section area, $C_d$ is pipe constant and $g$ is gravity of earth which is 9.81 (m/s$^2$)\n",
        "\n",
        "\n",
        "$Q_H$ is volumetric flowrate of hotstream m$^3$/h, $Q_C$ is volumetric flowrate of coldstream m$^3$/h, and $Q_{out}$ is volumetric flowrate of leaving stream m$^3$/h."
      ]
    },
    {
      "cell_type": "markdown",
      "metadata": {
        "id": "DOpAsJVlM_I1"
      },
      "source": [
        "Assumption:\n",
        "<ol><li>No density change during process </li>\n",
        "    <li>heat capacity is constant for all streams and process </li>\n",
        "    </ol>"
      ]
    },
    {
      "cell_type": "markdown",
      "metadata": {
        "id": "d76mDtMpM_I1"
      },
      "source": [
        "<h2><center>Mass Balance</center></h2>\n",
        "Take\n",
        "    \\begin{equation}\n",
        "    \\rho_T=\\rho_H=\\rho_C=\\rho_O=\\rho\n",
        "    \\end{equation}\n",
        "and\n",
        "    \\begin{equation}\n",
        "    c_{pT}= c_{pH}= c_{pC}= c_{pO}= c_{p}\n",
        "    \\end{equation}\n",
        "where $rho_T$ is density of liquid inside tank $T$ (kg/m$^3$), $rho_H$ is density of hot-stream $T$ (kg/m$^3$), $rho_C$ is density of cold stream $T$ (kg/m$^3$), $rho_O$ is density of output stream $T$ (kg/m$^3$). $c_{pT}$ is heat capacity of liguid inside the tank (JK$^{-1}$kg$^{-1}$), $c_{pH}$ is heat capacity of liquid in hot-stream (JK$^{-1}$kg$^{-1}$), $c_{pC}$ is heat capacity of liquid in cold-stream (JK$^{-1}$kg$^{-1}$) and $c_{pO}$ is heat capacity ofliquid living the tank (JK$^{-1}$kg$^{-1}$)."
      ]
    },
    {
      "cell_type": "markdown",
      "metadata": {
        "id": "DXrt6156M_I2"
      },
      "source": [
        "\\begin{equation}\n",
        "\\mbox{mass accumulation}=\\mbox{mass incoming}-\\mbox{mass outcoming}+\\mbox{mass generation}-\\mbox{mass consumption}\n",
        "\\end{equation}\n",
        "\n",
        "\\begin{equation}\n",
        "\\begin{array}{lcl}\n",
        "\\frac{d\\rho_TV_T}{dt}&=& \\rho_HQ_H+\\rho_CQ_C-\\rho_OQ_{out}\\\\\n",
        "\\rho\\left(\\frac{dAh}{dt}\\right)&=& \\rho Q_H+\\rho Q_C-\\rho Q_{out}\\\\\n",
        "A\\frac{dh}{dt}+h\\frac{dA}{dt} &=& Q_H + Q_C - Q_{out}\\\\\n",
        "\\frac{\\pi}{4}D^2\\frac{dh}{t} &=& Q_H + Q_C - Q_{out}\\\\\n",
        "\\frac{dh}{dt}&=&\\frac{4}{\\pi D^2}\\left(Q_H+Q_C-A_oc_d\\sqrt{\\rho_Tgh} \\right)\n",
        "\\end{array}\n",
        "\\end{equation}\n"
      ]
    },
    {
      "cell_type": "markdown",
      "metadata": {
        "id": "3YD0OjSlM_I2"
      },
      "source": [
        "<h2><center>Energy Balance</center></h2>\n",
        "\\begin{equation}\n",
        "\\mbox{energy accumulation}=\\mbox{energy incoming} - \\mbox{energy outcoming} + \\mbox{transfer energy} + \\mbox{energy due to reaction}\n",
        "\\end{equation}\n"
      ]
    },
    {
      "cell_type": "markdown",
      "metadata": {
        "tags": [],
        "id": "BKmGqr-IM_I3"
      },
      "source": [
        "\\begin{equation}\n",
        "\\begin{array}{lcl}\n",
        "\\frac{d(\\rho_TV_Tc_{pT}(T_T-T_{ref}))}{dt}&=&\\rho_HQ_Hc_{pH}(T_H-T_{ref})+\\rho_CQ_Cc_{pC}(T_C-T_{ref})-\\rho_OQ_{out}c_{pO}(T_O-T_{ref}) \\\\\n",
        "\\end{array}\n",
        "\\end{equation}\n",
        "having no density and heat capacity change, then\n",
        "\\begin{equation}\n",
        "\\begin{array}{rcl}\n",
        "\\frac{d(V_T(T_T-T_{ref}))}{dt}&=&Q_H(T_H-T_{ref})+Q_C(T_C-T_{ref})-Q_{out}(T_O-T_{ref}) \\\\\n",
        "\\frac{d(V_TT_T)}{dt}&=&Q_HT_H+Q_CT_C-Q_{out}T_O,\\qquad  T_{ref}; \\mbox{is constant} \\\\\n",
        "V_T\\frac{dT_T}{dt}+\\frac{\\pi D^2T_T}{4}\\frac{dh}{dt}&=&Q_HT_H+Q_CT_C-A_oc_d\\sqrt{\\rho_Tgh}T_T,\\qquad T_O=T_T\\\\\n",
        "V_T\\frac{dT_T}{dt}&=&Q_HT_H+Q_CT_C-A_oc_d\\sqrt{\\rho_Tgh}T_T-\\frac{\\pi D^2T_T}{4}\\frac{dh}{dt}\\\\\n",
        "\\frac{dT_T}{dt}&=&\\frac{1}{V_T}\\left(Q_H(T_H-T_T)+Q_C(T_C-T_T) \\right)\\\\\n",
        "\\frac{dT_T}{dt}&=&\\frac{4}{\\pi D^2h}\\left(Q_H(T_H-T_T)+Q_C(T_C-T_T) \\right)\n",
        "\\end{array}\n",
        "\\end{equation}"
      ]
    },
    {
      "cell_type": "markdown",
      "metadata": {
        "id": "Yn-k1xJFM_I4"
      },
      "source": [
        "<h2> Summary</h2>"
      ]
    },
    {
      "cell_type": "markdown",
      "metadata": {
        "id": "-bCO46zQM_I4"
      },
      "source": [
        "\\begin{equation}\n",
        "\\begin{array}{rcl}\n",
        "\\frac{dh}{dt}&=&\\frac{4}{\\pi D^2}\\left(Q_H+Q_C-A_oc_d\\sqrt{\\rho_Tgh}\\right)\\\\\n",
        "\\frac{dT_T}{dt}&=&\\frac{4}{\\pi D^2h}(Q_H(T_H-T_T)+Q_C(T_C-T_T))\n",
        "\\end{array}\n",
        "\\end{equation}"
      ]
    },
    {
      "cell_type": "code",
      "execution_count": null,
      "metadata": {
        "id": "JFluUuQXM_I4"
      },
      "outputs": [],
      "source": []
    },
    {
      "cell_type": "markdown",
      "metadata": {
        "id": "OJXADbXcM_I5"
      },
      "source": [
        "<h2><center> Isothermal CSTR</center></h2>"
      ]
    },
    {
      "cell_type": "markdown",
      "metadata": {
        "id": "OKnD0ynuM_I6"
      },
      "source": [
        "\\begin{equation}\n",
        "[A]+[B]\\rightarrow [P]\n",
        "\\end{equation}\n",
        "is then call\n",
        "\n",
        "$C_A=[A], C_B=[B]$"
      ]
    },
    {
      "cell_type": "markdown",
      "metadata": {
        "id": "O8IxA_3YM_I6"
      },
      "source": [
        "# reaction rate\n",
        "\\begin{equation}\n",
        "r_A=-kC_AC_B\n",
        "\\end{equation}"
      ]
    },
    {
      "cell_type": "markdown",
      "metadata": {
        "id": "CGx6hdayM_I6"
      },
      "source": [
        "![tank02.jpeg](attachment:tank02.jpeg)"
      ]
    },
    {
      "cell_type": "markdown",
      "metadata": {
        "id": "8ksbPgwTM_I6"
      },
      "source": [
        "Let"
      ]
    },
    {
      "cell_type": "markdown",
      "metadata": {
        "id": "OctbgAbIM_I7"
      },
      "source": [
        "<h3> overall mass balance</h3>\n",
        "\n",
        "\n",
        "\\begin{equation}\n",
        "\\frac{4}{\\pi D^2}\\left(F_{in,A}+F_{in,B}-A_0c_d\\sqrt{\\rho g}\\sqrt{h}\\right)=\\frac{dh}{dt}\n",
        "\\end{equation}\n"
      ]
    },
    {
      "cell_type": "markdown",
      "metadata": {
        "tags": [],
        "id": "K--5ddjEM_I7"
      },
      "source": [
        "<h3> Component Balance</h3>\n",
        "\n",
        "1. for component A\n",
        "\\begin{equation}\n",
        "\\left(C_{A,in}F_{in,A}+C_{A,in}F_{in,B}-C_{A,out}F_{out}+Vr_A\\right)=\\frac{dC_AV}{dt}\n",
        "\\end{equation}\n",
        "\n",
        "\\begin{equation}\n",
        "\\left(C_{A,in}F_{in,A}+C_{A,in}F_{in,B}-C_AA_0c_d\\sqrt{\\rho g}\\sqrt{h}-VkC_AC_B\\right)=\\frac{\\pi D^2}{4}\\left(h\\frac{dC_A}{dt}+C_A\\frac{dh}{dt}\\right)\n",
        "\\end{equation}\n",
        "\n",
        "2. for component B\n",
        "\n",
        "\\begin{equation}\n",
        "\\left(C_{B,in}F_{in,A}+C_{B,in}F_{in,B}-C_BA_0c_d\\sqrt{\\rho g}\\sqrt{h}-VkC_AC_B\\right)=\\frac{\\pi D^2}{4}\\left(h\\frac{dC_B}{dt}+C_B\\frac{dh}{dt}\\right)\n",
        "\\end{equation}\n"
      ]
    },
    {
      "cell_type": "markdown",
      "metadata": {
        "id": "WDnVS4exM_I7"
      },
      "source": [
        "# It can be presented as\n",
        "\n",
        "\\begin{equation}\n",
        "\\frac{dh}{dt}=\\frac{4}{\\pi D^2}\\left(F_{in,A}+F_{in,B}-A_0c_d\\sqrt{\\rho g}\\sqrt{h}\\right)\n",
        "\\end{equation}\n",
        "\n",
        "\n",
        "\\begin{equation}\n",
        "\\frac{dC_A}{dt}=\\frac{4}{\\pi D^2h}\\left(C_{A,in}F_{in,A}+C_{A,in}F_{in,B}-C_AA_0c_d\\sqrt{\\rho g}\\sqrt{h}\\right)-hkC_AC_B-\\frac{\\pi D^2 hC_A}{4}\\frac{dh}{dt}\n",
        "\\end{equation}\n",
        "\n",
        "\\begin{equation}\n",
        "\\frac{dC_B}{dt}=\\frac{4}{\\pi D^2h}\\left(C_{B,in}F_{in,A}+C_{B,in}F_{in,B}-C_BA_0c_d\\sqrt{\\rho g}\\sqrt{h}\\right)-hkC_AC_B-\\frac{\\pi D^2 hC_B}{4}\\frac{dh}{dt}\n",
        "\\end{equation}"
      ]
    },
    {
      "cell_type": "markdown",
      "metadata": {
        "id": "bzYNqIrGM_I7"
      },
      "source": [
        "this one is not easy to solve, because it has 2 differential in time."
      ]
    },
    {
      "cell_type": "markdown",
      "metadata": {
        "id": "BsGCESxWM_I8"
      },
      "source": [
        "substitute $\\frac{dh}{dt}$ by the above equation."
      ]
    },
    {
      "cell_type": "markdown",
      "metadata": {
        "id": "KTWEz87NR1b8"
      },
      "source": [
        "<h1><center>Non-Isothermal</center></h1>\n",
        "\n",
        "# Energy Balance"
      ]
    },
    {
      "cell_type": "markdown",
      "metadata": {
        "id": "MUnIxyiqR7CB"
      },
      "source": [
        "we have the following reaction rate\n",
        "\\begin{equation}\n",
        "r_A=-\\left(k_0e^{-\\frac{E_a}{RT}}\\right)C_AC_B\n",
        "\\end{equation}"
      ]
    },
    {
      "cell_type": "markdown",
      "metadata": {
        "id": "wOJ7YmlaM_I8"
      },
      "source": [
        "![tank03.jpeg](attachment:tank03.jpeg)"
      ]
    },
    {
      "cell_type": "markdown",
      "metadata": {
        "id": "-KG-G_fAM_I8"
      },
      "source": [
        "enegy\n",
        "\\begin{equation}\n",
        "Q=mc_p\\Delta T\n",
        "\\end{equation}"
      ]
    },
    {
      "cell_type": "markdown",
      "metadata": {
        "id": "84GSRq1vM_I9"
      },
      "source": [
        "\\begin{equation}\n",
        "energy\\; incoming\\; A=\\rho_A F_A c_{p,A}(T^{in}_A-T_{ref})\n",
        "\\end{equation}"
      ]
    },
    {
      "cell_type": "markdown",
      "metadata": {
        "id": "yQFHFQHGM_I9"
      },
      "source": [
        "\\begin{equation}\n",
        "energy\\; incoming\\; B=\\rho_B F_B c_{p,B}(T^{in}_B-T_{ref})\n",
        "\\end{equation}"
      ]
    },
    {
      "cell_type": "markdown",
      "metadata": {
        "id": "I_yY2FD6M_I9"
      },
      "source": [
        "\\begin{equation}\n",
        "energy\\; outcoming\\; P=\\rho_P F_P c_{p,P}(T_P-T_{ref})\n",
        "\\end{equation}"
      ]
    },
    {
      "cell_type": "markdown",
      "metadata": {
        "id": "sbCr0-Y3M_I9"
      },
      "source": [
        "\\begin{equation}\n",
        "energy\\; transfer\\; Jacket=UA_{ht}((T_j-T_{ref})-(T-T_{ref}))\n",
        "\\end{equation}"
      ]
    },
    {
      "cell_type": "markdown",
      "metadata": {
        "id": "I6oFS4zXM_I9"
      },
      "source": [
        "\\begin{equation}\n",
        "energy\\; due\\; to\\; reaction=rV\\Delta H\n",
        "\\end{equation}"
      ]
    },
    {
      "cell_type": "markdown",
      "metadata": {
        "id": "CzqDYOyuM_I-"
      },
      "source": [
        "\\begin{equation}\n",
        "energy\\; accumulation=\\frac{d\\rho V(T-T_{ref})}{dt}\n",
        "\\end{equation}"
      ]
    },
    {
      "cell_type": "markdown",
      "metadata": {
        "id": "RySYzfwCM_I-"
      },
      "source": [
        "\\begin{equation}\\begin{array}{rcl}\n",
        "\\rho_A F_A c_{p,A}(T^{in}_A-T_{ref})+\\rho_B F_B c_{p,B}(T^{in}_B-T_{ref})&-&\\\\\n",
        "\\rho_P F_P c_{p,P}(T_P-T_{ref})+UA_{ht}((T_j-T_{ref})-(T-T_{ref}))+\\rho rV\\Delta H&=&\\frac{d\\rho V(T-T_{ref})}{dt}\n",
        "\\end{array}\n",
        "\\end{equation}"
      ]
    },
    {
      "cell_type": "markdown",
      "metadata": {
        "id": "LawU3sbsM_I-"
      },
      "source": [
        "Let $T_{ref}$ is constant, $\\rho_A=\\rho_B=\\rho_P=\\rho$ also $T_p=T$"
      ]
    },
    {
      "cell_type": "markdown",
      "metadata": {
        "id": "-HoVDVbfM_I-"
      },
      "source": [
        "\\begin{equation}\n",
        "F_A c_{p,A}(T^{in}_A)+ F_B c_{p,B}(T^{in}_B)- F_P c_{p,P}(T)+UA_{ht}(T_j-T)+rV\\Delta H=\\frac{d VT}{dt}\n",
        "\\end{equation}"
      ]
    },
    {
      "cell_type": "markdown",
      "metadata": {
        "id": "0aDpyXZlM_I-"
      },
      "source": [
        "\\begin{equation}\n",
        "\\frac{dVT}{dt}=V\\frac{dT}{dt}+T\\frac{dV}{dt}=V\\frac{dT}{dt}+T\\left(A_R\\frac{dh}{dt}+h\\frac{dA_R}{dt}\\right)\n",
        "\\end{equation}"
      ]
    },
    {
      "cell_type": "markdown",
      "metadata": {
        "id": "Lz6BLwE2M_I_"
      },
      "source": [
        "\\begin{equation}\n",
        "\\frac{dVT}{dt}=V\\frac{dT}{dt}+TA_R\\frac{dh}{dt}\n",
        "\\end{equation}"
      ]
    },
    {
      "cell_type": "markdown",
      "metadata": {
        "id": "TgPzmcKAM_I_"
      },
      "source": [
        "there is nonlinear in $T$"
      ]
    },
    {
      "cell_type": "markdown",
      "metadata": {
        "id": "McyQQsZyM_I_"
      },
      "source": [
        "<h3> energy for Jacket</h3>"
      ]
    },
    {
      "cell_type": "markdown",
      "metadata": {
        "id": "nfIa7W9IM_I_"
      },
      "source": [
        "mass balance for jacket\n",
        "\n",
        "\\begin{equation}\n",
        "\\rho^{in}_J F^{in}_J-\\rho^{out}_JF^{out}_J=\\frac{d\\rho_J V_J}{dt}=0,\\quad \\Rightarrow F^{in}_J=F^{out}_J\n",
        "\\end{equation}\n"
      ]
    },
    {
      "cell_type": "markdown",
      "metadata": {
        "id": "s_aZ-POIM_JJ"
      },
      "source": [
        "\\begin{equation}\n",
        "\\rho_J F_J c_{p,J} (T_{J,in}-T_J)-UA_{ht}(T_J-T)=\\frac{d\\rho_JV_J c_{p,J} (T_J-T_{ref}) }{dt}=\\rho_JV_J c_{p,J}\\frac{dT_J}{dt}\n",
        "\\end{equation}\n"
      ]
    },
    {
      "cell_type": "markdown",
      "metadata": {
        "id": "pB5ODKIBR7o7"
      },
      "source": [
        "<h1> <center>Linearization</center></h1>"
      ]
    },
    {
      "cell_type": "markdown",
      "metadata": {
        "id": "UI0hi_3lM_JJ"
      },
      "source": [
        "suppose\n",
        "\\begin{equation}\n",
        "f(x)\n",
        "\\end{equation}\n",
        "is nonlinear. We can linearize at $\\bar{x}$"
      ]
    },
    {
      "cell_type": "markdown",
      "metadata": {
        "id": "DIoprfk3M_JJ"
      },
      "source": [
        "we can apply Taylor Expansion\n",
        "\\begin{equation}\n",
        "f(x)\\approx f(\\bar{x})+\\frac{f'(\\bar{x})}{1!}(x-\\bar{x})+\\cdots+\\frac{f^{n}(\\bar{x})}{n!}(x-\\bar{x})^n\n",
        "\\end{equation}"
      ]
    },
    {
      "cell_type": "markdown",
      "metadata": {
        "id": "gxmfW_3dM_JK"
      },
      "source": [
        "<h3><font color='red'>Example</font> </h3>\n",
        "\n",
        "\\begin{equation}\n",
        "\\frac{dh}{dt}=f(t,h,F_{in})=\\frac{1}{A}F_{in}-\\frac{A_0\\sqrt{\\rho g}}{A}\\sqrt{h}\n",
        "\\end{equation}\n",
        "\n",
        "we want to linearize at $\\bar{h}$ and $\\bar{F}_{in}$."
      ]
    },
    {
      "cell_type": "markdown",
      "metadata": {
        "id": "85Vg3DJlM_JK"
      },
      "source": [
        "\\begin{equation}\n",
        "\\frac{dh}{dt}=f(t,h,F_{in})\\approx f(t,\\bar{h},\\bar{F}_{in})+\\left.\\frac{\\partial f}{\\partial h}\\right|_{\\bar{h},\\bar{F}_{in}}(h-\\bar{h})+\\left.\\frac{\\partial f}{\\partial F_{in}}\\right|_{\\bar{h},\\bar{F}_{in}}(F_{in}-\\bar{F}_{in})\n",
        "\\end{equation}"
      ]
    },
    {
      "cell_type": "markdown",
      "metadata": {
        "id": "e9QjyzmtM_JK"
      },
      "source": [
        "\\begin{equation}\n",
        "\\frac{dh}{dt}=\\frac{1}{A}\\bar{F}_{in}-\\frac{A_0\\sqrt{\\rho g}}{A}\\sqrt{\\bar{h}}-\\frac{A_0\\sqrt{\\rho g}}{2A\\sqrt{\\bar{h}}}(h-\\bar{h})+\\frac{1}{A}(F_{in}-\\bar{F}_{in})\n",
        "\\end{equation}"
      ]
    },
    {
      "cell_type": "markdown",
      "metadata": {
        "id": "_KO2vZKaM_JK"
      },
      "source": [
        "\\begin{equation}\n",
        "\\frac{dh}{dt}-\\frac{1}{A}\\bar{F}_{in}+\\frac{A_0\\sqrt{\\rho g}}{A}\\sqrt{\\bar{h}}=-\\frac{A_0\\sqrt{\\rho g}}{2A\\sqrt{\\bar{h}}}(h-\\bar{h})+\\frac{1}{A}(F_{in}-\\bar{F}_{in})\n",
        "\\end{equation}"
      ]
    },
    {
      "cell_type": "markdown",
      "metadata": {
        "id": "iuJ9PJPAM_JK"
      },
      "source": [
        "\\begin{equation}\n",
        "\\frac{dh}{dt}-\\frac{d\\bar{h}}{dt}=-\\frac{A_0\\sqrt{\\rho g}}{2A\\sqrt{\\bar{h}}}(h-\\bar{h})+\\frac{1}{A}(F_{in}-\\bar{F}_{in})\n",
        "\\end{equation}"
      ]
    },
    {
      "cell_type": "markdown",
      "metadata": {
        "id": "rjJHaHieM_JK"
      },
      "source": [
        "let $\\hat{h}=h-\\bar{h}$ and $\\hat{F}_{in}=F_{in}-\\bar{F}_{in}$\n",
        "\n",
        "\\begin{equation}\n",
        "\\frac{d\\hat{h}}{dt}=-\\frac{A_0\\sqrt{\\rho g}}{2A\\sqrt{\\bar{h}}}\\hat{h}+\\frac{1}{A}\\hat{F}_{in}\n",
        "\\end{equation}"
      ]
    },
    {
      "cell_type": "markdown",
      "metadata": {
        "id": "aySxqrgSM_JL"
      },
      "source": [
        "Let the process has tank cross-section area $A=31415.9265$ square inches, pipe cross-section area $A_0=3.142$ square inches, gravity $g=386.08858$ inches per seconds squared, liquid density $\\rho=0.03612729$ pound per cubic inches, at liquid level $\\bar{h}=20$ inches and volumetric flowrate $\\bar{F}_{in}=25$ cubic inches per seconds."
      ]
    },
    {
      "cell_type": "markdown",
      "metadata": {
        "id": "DXPpxIKTM_JL"
      },
      "source": [
        "\\begin{equation}\n",
        "\\frac{d\\hat{h}}{dt}=-\\frac{3.142\\sqrt{0.03612729\\times 386.08858}}{2\\times 31415.9265\\sqrt{20}}\\hat{h}+\\frac{1}{31415.9265}\\hat{F}_{in}\n",
        "\\end{equation}"
      ]
    },
    {
      "cell_type": "markdown",
      "metadata": {
        "id": "5Z6wD6_uM_JL"
      },
      "source": [
        "\\begin{equation}\n",
        "\\frac{d\\hat{h}}{dt}=-a\\hat{h}+b\\hat{F}_{in}\n",
        "\\end{equation}"
      ]
    },
    {
      "cell_type": "markdown",
      "metadata": {
        "id": "vBD8F9qxM_JL"
      },
      "source": [
        "\\begin{equation}\n",
        "\\frac{d\\hat{h}}{dt}+a\\hat{h}=b\\hat{F}_{in}\n",
        "\\end{equation}"
      ]
    },
    {
      "cell_type": "markdown",
      "metadata": {
        "id": "X4MmNCdzM_JL"
      },
      "source": [
        "or in general is\n",
        "\\begin{equation}\n",
        "\\frac{dx(t)}{dt}+ax(t)=bu(t)\n",
        "\\end{equation}"
      ]
    },
    {
      "cell_type": "markdown",
      "metadata": {
        "id": "-La-a6ibM_JL"
      },
      "source": [
        "<h2> Blackbox Model</h2>\n"
      ]
    },
    {
      "cell_type": "markdown",
      "metadata": {
        "id": "pHfRyzjYM_JL"
      },
      "source": [
        "let $u$ be a set of input data, and $x$ is a set of output data, we need to define the mapping from input to output\n",
        "\n",
        "\\begin{equation}\n",
        "x=f(u)\n",
        "\\end{equation}"
      ]
    },
    {
      "cell_type": "markdown",
      "metadata": {
        "id": "wfBhanZkM_JL"
      },
      "source": [
        "\\begin{equation}\n",
        "x(t)=\\phi^\\top(t)\\theta\n",
        "\\end{equation}"
      ]
    },
    {
      "cell_type": "markdown",
      "metadata": {
        "id": "5SVzS9ISM_JM"
      },
      "source": [
        "\\begin{equation}\n",
        "x(t)+a_1x(t-1)+\\cdots+a_{na}x(t-na)=b_1u(t-nk)+\\cdots+b_{nb}(t-nb-nk+1)+e(t)\n",
        "\\end{equation}"
      ]
    },
    {
      "cell_type": "markdown",
      "metadata": {
        "id": "n797y2_TM_JM"
      },
      "source": [
        "for\n",
        "1. $x(t)$ output at time $t$\n",
        "2. $na$ - number of poles\n",
        "3. $nb$ - number of zeros\n",
        "4. $nk$ - number of input samples that occus before the input affects the output, also called the dead time in the systems\n",
        "5. $x(t-1),\\cdots,x(t-na)$ previous output on which the current output depends\n",
        "6. $u(t-nk),\\cdots,u(t-nk-nb+1)$ previous and delayed inputs on which the current output depends"
      ]
    },
    {
      "cell_type": "markdown",
      "metadata": {
        "id": "1bxtIBJeM_JM"
      },
      "source": [
        "It can be presented in more compact technique as\n",
        "\\begin{equation}\n",
        "A(q)x(t)=B(q)u(t-nk)+e(t)\n",
        "\\end{equation}\n",
        "where $q$ is delay operator\n",
        "\\begin{equation}\n",
        "A(q)=1+a_1q^{-1}+\\cdots+a_{na}q^{-na}\n",
        "\\end{equation}\n",
        "\\begin{equation}\n",
        "B(q)=b_1+b_2q^{-1}+\\cdots+b_{nb}q^{-nb+1}\n",
        "\\end{equation}"
      ]
    },
    {
      "cell_type": "markdown",
      "metadata": {
        "id": "c9tJ-BoAM_JM"
      },
      "source": [
        "Least-Square Method\n",
        "\\begin{equation}\n",
        "\\hat{\\theta}(N)=arg\\min_{\\theta}\\sum_{t=1}^N\\|x(t)-\\phi^\\top(t)\\theta\\|^2\n",
        "\\end{equation}\n",
        "where $\\|\\cdot\\|$ denotes the Euclidean norm"
      ]
    },
    {
      "cell_type": "markdown",
      "metadata": {
        "id": "_PpoFd6YM_JM"
      },
      "source": [
        "then, from candidate models, you need to calculate\n",
        "\\begin{equation}\n",
        "    RMSE=\\sqrt{\\frac{1}{N}\\sum_{i=1}^N(x_d-x_m)^2}\n",
        "\\end{equation}\n",
        "where\n",
        "$x_d$ is data set and $x_m$ from model output"
      ]
    }
  ],
  "metadata": {
    "celltoolbar": "Slideshow",
    "colab": {
      "provenance": [],
      "include_colab_link": true
    },
    "kernelspec": {
      "display_name": "Python 3 (ipykernel)",
      "language": "python",
      "name": "python3"
    },
    "language_info": {
      "codemirror_mode": {
        "name": "ipython",
        "version": 3
      },
      "file_extension": ".py",
      "mimetype": "text/x-python",
      "name": "python",
      "nbconvert_exporter": "python",
      "pygments_lexer": "ipython3",
      "version": "3.13.5"
    }
  },
  "nbformat": 4,
  "nbformat_minor": 0
}