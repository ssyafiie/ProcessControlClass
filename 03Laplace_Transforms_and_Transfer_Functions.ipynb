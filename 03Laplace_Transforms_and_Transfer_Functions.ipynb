{
  "nbformat": 4,
  "nbformat_minor": 0,
  "metadata": {
    "colab": {
      "provenance": [],
      "authorship_tag": "ABX9TyMS9cHo7O0DPeFj7BYe4H1a",
      "include_colab_link": true
    },
    "kernelspec": {
      "name": "python3",
      "display_name": "Python 3"
    },
    "language_info": {
      "name": "python"
    }
  },
  "cells": [
    {
      "cell_type": "markdown",
      "metadata": {
        "id": "view-in-github",
        "colab_type": "text"
      },
      "source": [
        "<a href=\"https://colab.research.google.com/github/ssyafiie/ProcessControlClass/blob/main/03Laplace_Transforms_and_Transfer_Functions.ipynb\" target=\"_parent\"><img src=\"https://colab.research.google.com/assets/colab-badge.svg\" alt=\"Open In Colab\"/></a>"
      ]
    },
    {
      "cell_type": "markdown",
      "source": [
        "# Laplace Transform"
      ],
      "metadata": {
        "id": "50Bwe5ybSIeq"
      }
    },
    {
      "cell_type": "markdown",
      "source": [
        "\n",
        "a function\n",
        "\\begin{equation}\n",
        "f(t)\n",
        "\\end{equation}\n",
        "is transformed into Laplace as\n",
        "\\begin{equation}\n",
        "\\int_{0}^\\infty f(t)e^{-st}dt.\n",
        "\\end{equation}\n",
        "## example\n",
        "Let\n",
        "\\begin{equation}\n",
        "f(t)=c\n",
        "\\end{equation}\n",
        "then\n",
        "\\begin{equation}\n",
        "\\int_0^\\infty ce^{-st}dt=c\\int_0^\\infty e^{-st}dt=\\left.-c\\frac{1}{s}e^{-st}\\right|_0^\\infty=-\\frac{c}{s}(0-1)=\\frac{c}{s}\n",
        "\\end{equation}\n",
        "for\n",
        "\\begin{equation}\n",
        "f(t)=ct\n",
        "\\end{equation}\n",
        "the transform be\n",
        "\\begin{equation}\n",
        "\\int_0^\\infty cte^{-st}dt=c\\int_0^\\infty te^{-st}dt=c\\left(\\left.-te^{-st}\\right|_0^\\infty +\\int_0^\\infty\\frac{1}{s}e^{-st}dt \\right)=\\frac{a}{s^2}\n",
        "\\end{equation}\n",
        "\n",
        "The following table for commonly use functions\n",
        "\n",
        "\\begin{array}{|c|c|} \\hline\n",
        "f(t)=\\mathscr {L}^{-1}\\left\\{ {F\\left( s \\right)} \\right\\} & F\\left( s \\right) = \\mathscr {L}\\left\\{ {f\\left( t \\right)} \\right\\} & f(t)= \\mathscr {L}^{-1}\\left\\{ {F\\left( s \\right)} \\right\\}& F\\left( s \\right) = \\mathscr {L}\\left\\{ {f\\left( t \\right)} \\right\\} \\\\\n",
        "\\hline\n",
        "c & \\displaystyle \\frac{c}{s} & e^{ct} & \\displaystyle \\frac{1}{s+c} \\\\\n",
        "{t^n},\\,\\,\\,\\,\\,n = 1,2,3, \\ldots & \\displaystyle \\frac{{n!}}{{{s^{n + 1}}}} & t^p,\\;p>-1 & \\displaystyle \\frac{{\\Gamma \\left( {p + 1} \\right)}}{{{s^{p + 1}}}} \\\\\n",
        "ct^n & \\displaystyle \\frac{c}{s^{n+1}} & \\sqrt{t} & \\displaystyle \\frac{{\\sqrt \\pi  }}{{2{s^{\\frac{3}{2}}}}} \\\\\n",
        "t^{n-\\frac{1}{2}}&\\displaystyle \\frac{{1 \\cdot 3 \\cdot 5 \\cdots \\left( {2n - 1} \\right)\\sqrt \\pi  }}{{{2^n}{s^{n + \\frac{1}{2}}}}}&\\sin(\\omega t)&\\displaystyle \\frac{\\omega}{s^2+\\omega^2} \\\\\n",
        "\\cos(\\omega t)&\\displaystyle \\frac{s}{s^2+\\omega^2}&t\\sin(\\omega t)&\\displaystyle \\frac{{2\\omega s}}{{{{\\left( {{s^2} + {\\omega^2}} \\right)}^2}}} \\\\\n",
        "t\\cos(\\omega t)&\\displaystyle \\frac{{{s^2} - {\\omega^2}}}{{{{\\left( {{s^2} + {\\omega^2}} \\right)}^2}}}&\\sin \\left( {\\omega t} \\right) - \\omega t\\cos \\left( {\\omega t} \\right)&\\displaystyle \\frac{{2{\\omega^3}}}{{{{\\left( {{s^2} + {\\omega^2}} \\right)}^2}}}\\\\\n",
        "\\sin \\left( {\\omega t} \\right) + \\omega t\\cos \\left( {\\omega t} \\right)&\\displaystyle \\frac{{2\\omega{s^2}}}{{{{\\left( {{s^2} + {\\omega^2}} \\right)}^2}}}&\\cos \\left( {\\omega t} \\right) - \\omega t\\sin \\left( {\\omega t} \\right)&\\displaystyle \\frac{{s\\left( {{s^2} - {\\omega^2}} \\right)}}{{{{\\left( {{s^2} + {\\omega^2}} \\right)}^2}}}\\\\\n",
        "\\cos \\left( {\\omega t} \\right) + \\omega t\\sin \\left( {\\omega t} \\right)&\\displaystyle \\frac{{s\\left( {{s^2} + 3{\\omega^2}} \\right)}}{{{{\\left( {{s^2} + {\\omega^2}} \\right)}^2}}}&\\sin \\left( {\\omega t + b} \\right)&\\displaystyle \\frac{{s\\sin \\left( b \\right) +\\omega \\cos \\left( b \\right)}}{{{s^2} + {\\omega^2}}}\\\\\n",
        "\\cos \\left( {\\omega t + b} \\right)&\\displaystyle \\frac{{s\\cos \\left( b \\right) - \\omega\\sin \\left( b \\right)}}{{{s^2} + {\\omega^2}}}&\\sinh \\left( {\\omega t} \\right)&\\displaystyle \\frac{\\omega}{{{s^2} - {\\omega^2}}}\\\\\n",
        "\\cosh \\left( {\\omega t} \\right)&\\displaystyle \\frac{s}{{{s^2} - {\\omega^2}}}&{e^{at}}\\sin \\left( {\\omega t} \\right)&\\displaystyle \\frac{\\omega}{{{{\\left( {s - a} \\right)}^2} + {\\omega^2}}}\\\\\n",
        "{e^{at}}\\cos \\left( {\\omega t} \\right)&\\displaystyle \\frac{{s - a}}{{{{\\left( {s - a} \\right)}^2} + {\\omega^2}}}&{e}^{at}\\sinh \\left( {\\omega t} \\right)&\\displaystyle \\frac{\\omega}{{{{\\left( {s - a} \\right)}^2} + {\\omega^2}}}\\\\\n",
        "{e}^{at}\\cosh \\left( {\\omega t} \\right)&\\displaystyle \\frac{{s - a}}{{{{\\left( {s - a} \\right)}^2} - {\\omega^2}}}&{t^n}{{e}^{at}},\\,\\,\\,\\,\\,n = 1,2,3, \\ldots&\\displaystyle \\frac{{n!}}{{{{\\left( {s - a} \\right)}^{n + 1}}}}\\\\\n",
        "f\\left( {ct} \\right)&\\displaystyle \\frac{1}{c}F\\left( {\\frac{s}{c}} \\right)&{ u_c\\left(t\\right)= u\\left({t - c}\\right)}^*&\\displaystyle \\frac{{{{e}^{ - cs}}}}{s}\\\\\n",
        "{\\delta \\left( {t - c} \\right)}^{\\&}&{e}^{ - cs}&{u_c}\\left( t \\right)f\\left( {t - c} \\right)&{e}^{ - cs}F\\left( s \\right)\\\\\n",
        "{e}^{ct}f\\left( t \\right)&F\\left( {s - c} \\right)&{t^n}f\\left( t \\right),\\,\\,\\,\\,\\,n = 1,2,3, \\ldots&{\\left( { - 1} \\right)^n}{F^{\\left( n \\right)}}\\left( s \\right)\\\\\n",
        "\\displaystyle \\frac{1}{t}f\\left( t \\right)&\\int_s^\\infty{{F\\left( u \\right)\\,du}}&\\displaystyle \\int_0^t{\\,f\\left( v \\right)\\,dv}&\\displaystyle \\frac{{F\\left( s \\right)}}{s}\\\\\n",
        "\\displaystyle \\int_0^t f\\left( t - \\tau \\right) g\\left( \\tau  \\right)\\,d\\tau&F(s)G(s)&f(t+T)=f(t)&\\displaystyle \\frac{{\\displaystyle \\int_{{\\,0}}^{{\\,T}}{{{{\\bf{e}}^{ - st}}f\\left( t \\right)\\,dt}}}}{{1 - {{\\bf{e}}^{ - sT}}}}\\\\\n",
        "f'(t)&sF(s)-f(0)&f''(t)&s^2F(s)-sf(0)-f(0)\\\\\n",
        "f^{(n)}(t)&{s^n}F\\left( s \\right) - {s^{n - 1}}f\\left( 0 \\right) - {s^{n - 2}}f'\\left( 0 \\right) \\cdots  - s{f^{\\left( {n - 2} \\right)}}\\left( 0 \\right) - {f^{\\left( {n - 1} \\right)}}\\left( 0 \\right)&&\\\\\n",
        "\\hline\n",
        "\\end{array}\n",
        "$^* \\mbox{Heavy side}\\quad{^\\&}\\mbox{diract delta function}\\,$\n",
        "\n",
        "\n",
        "\n",
        "\n"
      ],
      "metadata": {
        "id": "9afYQic59Fc6"
      }
    },
    {
      "cell_type": "code",
      "source": [],
      "metadata": {
        "id": "OtoxPycG_eYP"
      },
      "execution_count": null,
      "outputs": []
    },
    {
      "cell_type": "markdown",
      "source": [
        "# Transfer Function"
      ],
      "metadata": {
        "id": "9P2eYvl4SxUe"
      }
    },
    {
      "cell_type": "markdown",
      "source": [
        "Suppose we have a first order linear equation as\n",
        "\\begin{equation}\\begin{split}\n",
        "\\frac{dx(t)}{dt}+ax(t)=&bu(t)\\\\\n",
        "x(0)=&0\n",
        "\\end{split}\n",
        "\\end{equation}\n",
        "we take Laplace transform to\n",
        "\\begin{equation}\\begin{split}\n",
        "\\mathscr {L}\\left\\{\\frac{dx(t)}{dt}\\right\\}+\\mathscr{L}\\left\\{ax(t)\\right\\}=&\\mathscr{L}\\left\\{bu(t)\\right\\}\\\\\n",
        "sX(s)-x(0)+aX(s)=&bU(s)\\\\\n",
        "sX(s)-0+aX(s)=&bU(s)\\\\\n",
        "(s+a)X(s)=&bU(s)\\\\\n",
        "\\frac{X(s)}{U(s)}=&\\frac{b}{s+a}\\\\\n",
        "\\end{split}\n",
        "\\end{equation}\n",
        "\n",
        "In general\n",
        "\\begin{equation}\n",
        "G(s)=\\frac{X(s)}{U(s)}=\\frac{num(s)}{denum(s)}\n",
        "\\end{equation}\n",
        "where $num(s)$ and $denum(s)$ are polynomial of $s$ with order $n < m$, respectively.\n",
        "\n",
        "suppose we have a exponential input to the system\n",
        "\\begin{equation}\n",
        "u(t)=e^{ct}\n",
        "\\end{equation}\n",
        "in which the Laplace transform is\n",
        "\\begin{equation}\n",
        "U(s)=\\frac{1}{s+c}\n",
        "\\end{equation}\n",
        "thus, the evolution of $X(s)$ be\n",
        "\\begin{equation}\n",
        " X(s)=\\frac{b}{s+a}\\frac{1}{s+c}=\\frac{\\frac{b}{c-a}}{s+a}+\\frac{\\frac{b}{a-c}}{s+c}\n",
        "\\end{equation}\n",
        "It is in time-domain after inversing the Laplace is\n",
        "\\begin{equation}\n",
        "  x(t)=\\frac{b}{c-a}e^{-at}+\\frac{b}{a-c}e^{-ct}\n",
        "\\end{equation}\n"
      ],
      "metadata": {
        "id": "-4NRiV5oEksO"
      }
    },
    {
      "cell_type": "code",
      "source": [
        "import sympy\n",
        "sympy.init_printing()"
      ],
      "metadata": {
        "id": "Fl1Un8EFcmeq"
      },
      "execution_count": null,
      "outputs": []
    },
    {
      "cell_type": "code",
      "source": [
        "import matplotlib.pyplot as plt\n",
        "%matplotlib inline"
      ],
      "metadata": {
        "id": "FtOC4jDJcpAd"
      },
      "execution_count": null,
      "outputs": []
    },
    {
      "cell_type": "markdown",
      "source": [
        "define some symbol"
      ],
      "metadata": {
        "id": "j5ntwaMMcwCC"
      }
    },
    {
      "cell_type": "code",
      "source": [
        "t, s = sympy.symbols('t, s')\n",
        "a = sympy.symbols('a', real=True, positive=True)"
      ],
      "metadata": {
        "id": "R_foW-xXcvKV"
      },
      "execution_count": null,
      "outputs": []
    },
    {
      "cell_type": "code",
      "source": [
        "f = sympy.exp(-a*t)\n",
        "f"
      ],
      "metadata": {
        "colab": {
          "base_uri": "https://localhost:8080/",
          "height": 39
        },
        "id": "_fxuRjd9cySE",
        "outputId": "870afe8b-3a4b-4276-871b-f899c428c1ba"
      },
      "execution_count": null,
      "outputs": [
        {
          "output_type": "execute_result",
          "data": {
            "text/plain": [
              " -a⋅t\n",
              "ℯ    "
            ],
            "image/png": "[encoded data removed]",
            "text/latex": "$\\displaystyle e^{- a t}$"
          },
          "metadata": {},
          "execution_count": 4
        }
      ]
    },
    {
      "cell_type": "code",
      "source": [
        "sympy.integrate(f*sympy.exp(-s*t), (t, 0, sympy.oo))"
      ],
      "metadata": {
        "colab": {
          "base_uri": "https://localhost:8080/",
          "height": 89
        },
        "id": "RdUbva5sc_iS",
        "outputId": "7323def9-47c1-4d8f-b397-48de18e8e342"
      },
      "execution_count": null,
      "outputs": [
        {
          "output_type": "execute_result",
          "data": {
            "text/plain": [
              "⎧       1                         π\n",
              "⎪   ─────────      for │arg(s)│ ≤ ─\n",
              "⎪     ⎛a    ⎞                     2\n",
              "⎪   s⋅⎜─ + 1⎟                      \n",
              "⎪     ⎝s    ⎠                      \n",
              "⎪                                  \n",
              "⎨∞                                 \n",
              "⎪⌠                                 \n",
              "⎪⎮  -a⋅t  -s⋅t                     \n",
              "⎪⎮ ℯ    ⋅ℯ     dt     otherwise    \n",
              "⎪⌡                                 \n",
              "⎪0                                 \n",
              "⎩                                  "
            ],
            "text/latex": "$\\displaystyle \\begin{cases} \\frac{1}{s \\left(\\frac{a}{s} + 1\\right)} & \\text{for}\\: \\left|{\\arg{\\left(s \\right)}}\\right| \\leq \\frac{\\pi}{2} \\\\\\int\\limits_{0}^{\\infty} e^{- a t} e^{- s t}\\, dt & \\text{otherwise} \\end{cases}$"
          },
          "metadata": {},
          "execution_count": 5
        }
      ]
    },
    {
      "cell_type": "code",
      "source": [
        "sympy.laplace_transform(f, t, s)"
      ],
      "metadata": {
        "colab": {
          "base_uri": "https://localhost:8080/",
          "height": 58
        },
        "id": "11LTOsLwd0sS",
        "outputId": "4d19aff2-7738-4055-dfe7-a75001c66cc8"
      },
      "execution_count": null,
      "outputs": [
        {
          "output_type": "execute_result",
          "data": {
            "text/plain": [
              "⎛  1           ⎞\n",
              "⎜─────, 0, True⎟\n",
              "⎝a + s         ⎠"
            ],
            "text/latex": "$\\displaystyle \\left( \\frac{1}{a + s}, \\  0, \\  \\text{True}\\right)$"
          },
          "metadata": {},
          "execution_count": 6
        }
      ]
    },
    {
      "cell_type": "code",
      "source": [
        "F = sympy.laplace_transform(f, t, s, noconds=True)\n",
        "F"
      ],
      "metadata": {
        "colab": {
          "base_uri": "https://localhost:8080/",
          "height": 52
        },
        "id": "rEQpx2Kzd57H",
        "outputId": "5a59a433-1dfd-44e4-a833-a5d3a796a4c7"
      },
      "execution_count": null,
      "outputs": [
        {
          "output_type": "execute_result",
          "data": {
            "text/plain": [
              "  1  \n",
              "─────\n",
              "a + s"
            ],
            "image/png": "[encoded data removed]",
            "text/latex": "$\\displaystyle \\frac{1}{a + s}$"
          },
          "metadata": {},
          "execution_count": 7
        }
      ]
    },
    {
      "cell_type": "code",
      "source": [
        "def L(f):\n",
        "    return sympy.laplace_transform(f, t, s, noconds=True)"
      ],
      "metadata": {
        "id": "XRtgXOKyeNQa"
      },
      "execution_count": null,
      "outputs": []
    },
    {
      "cell_type": "code",
      "source": [
        "def invL(F):\n",
        "    return sympy.inverse_laplace_transform(F, s, t)"
      ],
      "metadata": {
        "id": "z8FOSEZleOP9"
      },
      "execution_count": null,
      "outputs": []
    },
    {
      "cell_type": "code",
      "source": [
        "invL(F)"
      ],
      "metadata": {
        "colab": {
          "base_uri": "https://localhost:8080/",
          "height": 39
        },
        "id": "2YXkrNyEeXC-",
        "outputId": "18100d2b-0464-4e21-ce78-000dee438376"
      },
      "execution_count": null,
      "outputs": [
        {
          "output_type": "execute_result",
          "data": {
            "text/plain": [
              " -a⋅t     \n",
              "ℯ    ⋅θ(t)"
            ],
            "image/png": "[encoded data removed]",
            "text/latex": "$\\displaystyle e^{- a t} \\theta\\left(t\\right)$"
          },
          "metadata": {},
          "execution_count": 10
        }
      ]
    },
    {
      "cell_type": "code",
      "source": [
        "sympy.Heaviside(t)"
      ],
      "metadata": {
        "colab": {
          "base_uri": "https://localhost:8080/",
          "height": 39
        },
        "id": "QUYmX7QrecDy",
        "outputId": "3d65a305-f08c-40d1-e0c0-7937f8e03796"
      },
      "execution_count": null,
      "outputs": [
        {
          "output_type": "execute_result",
          "data": {
            "text/plain": [
              "θ(t)"
            ],
            "image/png": "[encoded data removed]",
            "text/latex": "$\\displaystyle \\theta\\left(t\\right)$"
          },
          "metadata": {},
          "execution_count": 11
        }
      ]
    },
    {
      "cell_type": "code",
      "source": [
        "sympy.plot(sympy.Heaviside(t));"
      ],
      "metadata": {
        "colab": {
          "base_uri": "https://localhost:8080/",
          "height": 296
        },
        "id": "hGdYrkhYehk1",
        "outputId": "aed7525c-14b8-4d1f-d7b0-18ff3e842ece"
      },
      "execution_count": null,
      "outputs": [
        {
          "output_type": "display_data",
          "data": {
            "text/plain": [
              "<Figure size 432x288 with 1 Axes>"
            ],
            "image/png": "[encoded data removed]"
          },
          "metadata": {
            "needs_background": "light"
          }
        }
      ]
    },
    {
      "cell_type": "code",
      "source": [
        "invL(F).subs({a: 2})"
      ],
      "metadata": {
        "colab": {
          "base_uri": "https://localhost:8080/",
          "height": 39
        },
        "id": "ny4WaIWtepyy",
        "outputId": "28b4319f-358f-44ed-c3ef-da0642261bd8"
      },
      "execution_count": null,
      "outputs": [
        {
          "output_type": "execute_result",
          "data": {
            "text/plain": [
              " -2⋅t     \n",
              "ℯ    ⋅θ(t)"
            ],
            "image/png": "[encoded data removed]",
            "text/latex": "$\\displaystyle e^{- 2 t} \\theta\\left(t\\right)$"
          },
          "metadata": {},
          "execution_count": 13
        }
      ]
    },
    {
      "cell_type": "code",
      "source": [
        "p = sympy.plot(f.subs({a: 2}), invL(F).subs({a: 2}),\n",
        "               xlim=(-1, 4), ylim=(0, 3), show=False)\n",
        "p[1].line_color = 'red'\n",
        "p.show()"
      ],
      "metadata": {
        "colab": {
          "base_uri": "https://localhost:8080/",
          "height": 297
        },
        "id": "NKMRrTjgewDe",
        "outputId": "a30f4288-d0ce-4775-a51a-1cfd6983d424"
      },
      "execution_count": null,
      "outputs": [
        {
          "output_type": "display_data",
          "data": {
            "text/plain": [
              "<Figure size 432x288 with 1 Axes>"
            ],
            "image/png": "[encoded data removed]"
          },
          "metadata": {
            "needs_background": "light"
          }
        }
      ]
    },
    {
      "cell_type": "code",
      "source": [
        "omega = sympy.Symbol('omega', real=True)\n",
        "exp = sympy.exp\n",
        "sin = sympy.sin\n",
        "cos = sympy.cos\n",
        "functions = [1,\n",
        "         t,\n",
        "         exp(-a*t),\n",
        "         t*exp(-a*t),\n",
        "         t**2*exp(-a*t),\n",
        "         sin(omega*t),\n",
        "         cos(omega*t),\n",
        "         1 - exp(-a*t),\n",
        "         exp(-a*t)*sin(omega*t),\n",
        "         exp(-a*t)*cos(omega*t),\n",
        "         ]\n",
        "functions"
      ],
      "metadata": {
        "colab": {
          "base_uri": "https://localhost:8080/",
          "height": 39
        },
        "id": "RUqU6jyfe5AC",
        "outputId": "ca5e8393-6712-44f3-ab9e-a3cea5a61cd2"
      },
      "execution_count": null,
      "outputs": [
        {
          "output_type": "execute_result",
          "data": {
            "text/plain": [
              "⎡       -a⋅t     -a⋅t   2  -a⋅t                           -a⋅t   -a⋅t         \n",
              "⎣1, t, ℯ    , t⋅ℯ    , t ⋅ℯ    , sin(ω⋅t), cos(ω⋅t), 1 - ℯ    , ℯ    ⋅sin(ω⋅t)\n",
              "\n",
              "   -a⋅t         ⎤\n",
              ", ℯ    ⋅cos(ω⋅t)⎦"
            ],
            "image/png": "[encoded data removed]",
            "text/latex": "$\\displaystyle \\left[ 1, \\  t, \\  e^{- a t}, \\  t e^{- a t}, \\  t^{2} e^{- a t}, \\  \\sin{\\left(\\omega t \\right)}, \\  \\cos{\\left(\\omega t \\right)}, \\  1 - e^{- a t}, \\  e^{- a t} \\sin{\\left(\\omega t \\right)}, \\  e^{- a t} \\cos{\\left(\\omega t \\right)}\\right]$"
          },
          "metadata": {},
          "execution_count": 15
        }
      ]
    },
    {
      "cell_type": "code",
      "source": [
        "Fs = [L(f) for f in functions]\n",
        "Fs"
      ],
      "metadata": {
        "colab": {
          "base_uri": "https://localhost:8080/",
          "height": 68
        },
        "id": "ARF_Qd-IfEfF",
        "outputId": "80c51abb-c1c3-4f5d-859e-b2ec7a5dfbb5"
      },
      "execution_count": null,
      "outputs": [
        {
          "output_type": "execute_result",
          "data": {
            "text/plain": [
              "⎡1  1     1       1         2         ω        s         a            ω       \n",
              "⎢─, ──, ─────, ────────, ────────, ───────, ───────, ─────────, ─────────────,\n",
              "⎢s   2  a + s         2         3   2    2   2    2  s⋅(a + s)   2          2 \n",
              "⎣   s          (a + s)   (a + s)   ω  + s   ω  + s              ω  + (a + s)  \n",
              "\n",
              "     a + s    ⎤\n",
              " ─────────────⎥\n",
              "  2          2⎥\n",
              " ω  + (a + s) ⎦"
            ],
            "image/png": "[encoded data removed]",
            "text/latex": "$\\displaystyle \\left[ \\frac{1}{s}, \\  \\frac{1}{s^{2}}, \\  \\frac{1}{a + s}, \\  \\frac{1}{\\left(a + s\\right)^{2}}, \\  \\frac{2}{\\left(a + s\\right)^{3}}, \\  \\frac{\\omega}{\\omega^{2} + s^{2}}, \\  \\frac{s}{\\omega^{2} + s^{2}}, \\  \\frac{a}{s \\left(a + s\\right)}, \\  \\frac{\\omega}{\\omega^{2} + \\left(a + s\\right)^{2}}, \\  \\frac{a + s}{\\omega^{2} + \\left(a + s\\right)^{2}}\\right]$"
          },
          "metadata": {},
          "execution_count": 16
        }
      ]
    },
    {
      "cell_type": "code",
      "source": [
        "from pandas import DataFrame"
      ],
      "metadata": {
        "id": "oxD3lb3WfOGH"
      },
      "execution_count": null,
      "outputs": []
    },
    {
      "cell_type": "code",
      "source": [
        "def makelatex(args):\n",
        "    return [\"$${}$$\".format(sympy.latex(a)) for a in args]"
      ],
      "metadata": {
        "id": "gA3bzM20fXZk"
      },
      "execution_count": null,
      "outputs": []
    },
    {
      "cell_type": "code",
      "source": [
        "DataFrame(list(zip(makelatex(functions), makelatex(Fs))))"
      ],
      "metadata": {
        "colab": {
          "base_uri": "https://localhost:8080/",
          "height": 169
        },
        "id": "2rxro7whfc7f",
        "outputId": "b97d134c-8823-44ed-9df4-c0489935358f"
      },
      "execution_count": null,
      "outputs": [
        {
          "output_type": "error",
          "ename": "NameError",
          "evalue": "ignored",
          "traceback": [
            "\u001b[0;31m---------------------------------------------------------------------------\u001b[0m",
            "\u001b[0;31mNameError\u001b[0m                                 Traceback (most recent call last)",
            "\u001b[0;32m<ipython-input-1-7f57c7cb39aa>\u001b[0m in \u001b[0;36m<module>\u001b[0;34m\u001b[0m\n\u001b[0;32m----> 1\u001b[0;31m \u001b[0mDataFrame\u001b[0m\u001b[0;34m(\u001b[0m\u001b[0mlist\u001b[0m\u001b[0;34m(\u001b[0m\u001b[0mzip\u001b[0m\u001b[0;34m(\u001b[0m\u001b[0mmakelatex\u001b[0m\u001b[0;34m(\u001b[0m\u001b[0mfunctions\u001b[0m\u001b[0;34m)\u001b[0m\u001b[0;34m,\u001b[0m \u001b[0mmakelatex\u001b[0m\u001b[0;34m(\u001b[0m\u001b[0mFs\u001b[0m\u001b[0;34m)\u001b[0m\u001b[0;34m)\u001b[0m\u001b[0;34m)\u001b[0m\u001b[0;34m)\u001b[0m\u001b[0;34m\u001b[0m\u001b[0;34m\u001b[0m\u001b[0m\n\u001b[0m",
            "\u001b[0;31mNameError\u001b[0m: name 'DataFrame' is not defined"
          ]
        }
      ]
    },
    {
      "cell_type": "code",
      "source": [
        "F = ((s + 1)*(s + 2)* (s + 3))/((s + 4)*(s + 5)*(s + 6))\n",
        "F"
      ],
      "metadata": {
        "colab": {
          "base_uri": "https://localhost:8080/",
          "height": 57
        },
        "id": "C9mOi_w-foR-",
        "outputId": "624a7345-0ec0-4574-a6d8-7c25ff4753a3"
      },
      "execution_count": null,
      "outputs": [
        {
          "output_type": "execute_result",
          "data": {
            "text/plain": [
              "(s + 1)⋅(s + 2)⋅(s + 3)\n",
              "───────────────────────\n",
              "(s + 4)⋅(s + 5)⋅(s + 6)"
            ],
            "image/png": "[encoded data removed]",
            "text/latex": "$\\displaystyle \\frac{\\left(s + 1\\right) \\left(s + 2\\right) \\left(s + 3\\right)}{\\left(s + 4\\right) \\left(s + 5\\right) \\left(s + 6\\right)}$"
          },
          "metadata": {},
          "execution_count": 20
        }
      ]
    },
    {
      "cell_type": "code",
      "source": [
        "F.apart(s)"
      ],
      "metadata": {
        "colab": {
          "base_uri": "https://localhost:8080/",
          "height": 52
        },
        "id": "OKVWoRcUfvph",
        "outputId": "a0e54ba9-b246-4079-9e16-993059ed14a6"
      },
      "execution_count": null,
      "outputs": [
        {
          "output_type": "execute_result",
          "data": {
            "text/plain": [
              "      30      24      3  \n",
              "1 - ───── + ───── - ─────\n",
              "    s + 6   s + 5   s + 4"
            ],
            "image/png": "[encoded data removed]",
            "text/latex": "$\\displaystyle 1 - \\frac{30}{s + 6} + \\frac{24}{s + 5} - \\frac{3}{s + 4}$"
          },
          "metadata": {},
          "execution_count": 21
        }
      ]
    },
    {
      "cell_type": "code",
      "source": [
        "invL(F)"
      ],
      "metadata": {
        "colab": {
          "base_uri": "https://localhost:8080/",
          "height": 58
        },
        "id": "sif2XGAPf2I3",
        "outputId": "b75390a5-39e8-491c-c663-94b7a14c8590"
      },
      "execution_count": null,
      "outputs": [
        {
          "output_type": "execute_result",
          "data": {
            "text/plain": [
              "                                                                              \n",
              "   ⎛     2⋅t      t    ⎞  -6⋅t          ⎛ 2⋅t      t    ⎞  -6⋅t          ⎛   2\n",
              "11⋅⎝- 2⋅ℯ    + 5⋅ℯ  - 3⎠⋅ℯ    ⋅θ(t) + 3⋅⎝ℯ    - 2⋅ℯ  + 1⎠⋅ℯ    ⋅θ(t) + 6⋅⎝8⋅ℯ \n",
              "                                                                              \n",
              "                                                                              \n",
              "\n",
              "                                                     ⎛            3           \n",
              "⋅t       t     ⎞  -6⋅t                               ⎜           s            \n",
              "   - 25⋅ℯ  + 18⎠⋅ℯ    ⋅θ(t) + InverseLaplaceTransform⎜───────────────────────,\n",
              "                                                     ⎜ 3       2              \n",
              "                                                     ⎝s  + 15⋅s  + 74⋅s + 120 \n",
              "\n",
              "           ⎞\n",
              "           ⎟\n",
              " s, t, None⎟\n",
              "           ⎟\n",
              "           ⎠"
            ],
            "image/png": "[encoded data removed]",
            "text/latex": "$\\displaystyle 11 \\left(- 2 e^{2 t} + 5 e^{t} - 3\\right) e^{- 6 t} \\theta\\left(t\\right) + 3 \\left(e^{2 t} - 2 e^{t} + 1\\right) e^{- 6 t} \\theta\\left(t\\right) + 6 \\left(8 e^{2 t} - 25 e^{t} + 18\\right) e^{- 6 t} \\theta\\left(t\\right) + \\mathcal{L}^{-1}_{s}\\left[\\frac{s^{3}}{s^{3} + 15 s^{2} + 74 s + 120}\\right]\\left(t\\right)$"
          },
          "metadata": {},
          "execution_count": 22
        }
      ]
    },
    {
      "cell_type": "code",
      "source": [
        "invL(F).simplify()"
      ],
      "metadata": {
        "colab": {
          "base_uri": "https://localhost:8080/",
          "height": 58
        },
        "id": "Z-SDUCBff-i2",
        "outputId": "0c0cccc8-38d3-44e2-8404-da0ce4f63400"
      },
      "execution_count": null,
      "outputs": [
        {
          "output_type": "execute_result",
          "data": {
            "text/plain": [
              "                       ⎛            3                      ⎞                  \n",
              "                       ⎜           s                       ⎟       -4⋅t       \n",
              "InverseLaplaceTransform⎜───────────────────────, s, t, None⎟ + 29⋅ℯ    ⋅θ(t) -\n",
              "                       ⎜ 3       2                         ⎟                  \n",
              "                       ⎝s  + 15⋅s  + 74⋅s + 120            ⎠                  \n",
              "\n",
              "                               \n",
              "      -5⋅t            -6⋅t     \n",
              " 101⋅ℯ    ⋅θ(t) + 78⋅ℯ    ⋅θ(t)\n",
              "                               \n",
              "                               "
            ],
            "image/png": "[encoded data removed]",
            "text/latex": "$\\displaystyle \\mathcal{L}^{-1}_{s}\\left[\\frac{s^{3}}{s^{3} + 15 s^{2} + 74 s + 120}\\right]\\left(t\\right) + 29 e^{- 4 t} \\theta\\left(t\\right) - 101 e^{- 5 t} \\theta\\left(t\\right) + 78 e^{- 6 t} \\theta\\left(t\\right)$"
          },
          "metadata": {},
          "execution_count": 23
        }
      ]
    },
    {
      "cell_type": "code",
      "source": [
        "invL(F.apart(s))"
      ],
      "metadata": {
        "colab": {
          "base_uri": "https://localhost:8080/",
          "height": 39
        },
        "id": "35EfoPq1gE9e",
        "outputId": "841a04ab-f704-46b6-d719-a40bac077205"
      },
      "execution_count": null,
      "outputs": [
        {
          "output_type": "execute_result",
          "data": {
            "text/plain": [
              "          -4⋅t            -5⋅t            -6⋅t     \n",
              "δ(t) - 3⋅ℯ    ⋅θ(t) + 24⋅ℯ    ⋅θ(t) - 30⋅ℯ    ⋅θ(t)"
            ],
            "image/png": "[encoded data removed]",
            "text/latex": "$\\displaystyle \\delta\\left(t\\right) - 3 e^{- 4 t} \\theta\\left(t\\right) + 24 e^{- 5 t} \\theta\\left(t\\right) - 30 e^{- 6 t} \\theta\\left(t\\right)$"
          },
          "metadata": {},
          "execution_count": 24
        }
      ]
    },
    {
      "cell_type": "code",
      "source": [
        "t = sympy.Symbol('t', real=True)\n",
        "tau = sympy.Symbol('tau', real=True, positive=True)"
      ],
      "metadata": {
        "id": "oMpiQSv2hOKT"
      },
      "execution_count": null,
      "outputs": []
    },
    {
      "cell_type": "code",
      "source": [
        "G = 1/(tau*s + 1)\n",
        "G"
      ],
      "metadata": {
        "colab": {
          "base_uri": "https://localhost:8080/",
          "height": 52
        },
        "id": "1FuENb3qhWgc",
        "outputId": "7a82f2f2-ad85-4217-ef53-00a8bccbfc41"
      },
      "execution_count": null,
      "outputs": [
        {
          "output_type": "execute_result",
          "data": {
            "text/plain": [
              "   1   \n",
              "───────\n",
              "s⋅τ + 1"
            ],
            "image/png": "[encoded data removed]",
            "text/latex": "$\\displaystyle \\frac{1}{s \\tau + 1}$"
          },
          "metadata": {},
          "execution_count": 27
        }
      ]
    },
    {
      "cell_type": "code",
      "source": [
        "g = sympy.inverse_laplace_transform(G.subs({tau: 1}), s, t)\n",
        "sympy.plot(g, (t, -1, 10))"
      ],
      "metadata": {
        "colab": {
          "base_uri": "https://localhost:8080/",
          "height": 314
        },
        "id": "Bp6Eac0Bhrhc",
        "outputId": "93bd803c-248d-4305-da4f-ed9984a5d21b"
      },
      "execution_count": null,
      "outputs": [
        {
          "output_type": "display_data",
          "data": {
            "text/plain": [
              "<Figure size 432x288 with 1 Axes>"
            ],
            "image/png": "[encoded data removed]"
          },
          "metadata": {
            "needs_background": "light"
          }
        },
        {
          "output_type": "execute_result",
          "data": {
            "text/plain": [
              "<sympy.plotting.plot.Plot at 0x7fad693ad8e0>"
            ]
          },
          "metadata": {},
          "execution_count": 29
        }
      ]
    },
    {
      "cell_type": "code",
      "source": [
        "stepresponse = sympy.inverse_laplace_transform(G.subs({tau: 1})/s, s, t)\n",
        "sympy.plot(stepresponse, (t, -1, 10), ylim=(0, 1.1))"
      ],
      "metadata": {
        "colab": {
          "base_uri": "https://localhost:8080/",
          "height": 315
        },
        "id": "qRk_Pyr5h4K3",
        "outputId": "d325ac4e-f817-481f-c389-1b7008799c8a"
      },
      "execution_count": null,
      "outputs": [
        {
          "output_type": "display_data",
          "data": {
            "text/plain": [
              "<Figure size 432x288 with 1 Axes>"
            ],
            "image/png": "[encoded data removed]"
          },
          "metadata": {
            "needs_background": "light"
          }
        },
        {
          "output_type": "execute_result",
          "data": {
            "text/plain": [
              "<sympy.plotting.plot.Plot at 0x7fad67119eb0>"
            ]
          },
          "metadata": {},
          "execution_count": 32
        }
      ]
    }
  ]
}